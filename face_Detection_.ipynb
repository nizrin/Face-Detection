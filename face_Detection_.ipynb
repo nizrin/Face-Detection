import cv2
import matplotlib.pyplot as plt
img=cv2.imread("cc.jpg")
img
plt.imshow(img)
conv_img=cv2.cvtColor(img,cv2.COLOR_BGR2RGB)
plt.imshow(conv_img)
face_cas=cv2.CascadeClassifier('haarcascade_frontalface_default.xml')
face_cas
faces=face_cas.detectMultiScale(conv_img,minNeighbors=15)
faces
for(x,y,w,h) in faces:
    cv2.rectangle(conv_img,(x,y),(x+w,y+h),(0,0,255),4)
plt.imshow(conv_img)
video=cv2.VideoCapture("video.mp4")
while True:
    sucess,img=video.read()
    gray=cv2.cvtColor(img,cv2.COLOR_BGR2GRAY)
    faces=face_cas.detectMultiScale(gray,minNeighbors=8)
    for(x,y,w,h) in faces:
        cv2.rectangle(img,(x,y),(x+w,y+h),(0,0,255),3)
    cv2.imshow("IMAGES",img)
    if cv2.waitKey(1) & 0xFF==ord('q'):
        break
video.release()
cv2.destroyAllWindows()
